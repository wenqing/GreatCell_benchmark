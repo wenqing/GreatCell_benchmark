{
 "cells": [
  {
   "cell_type": "code",
   "execution_count": 5,
   "id": "e0998c4a",
   "metadata": {},
   "outputs": [],
   "source": [
    "import os\n",
    "import xml.etree.ElementTree as ET\n",
    "import matplotlib.pyplot as plt\n",
    "import numpy as np\n",
    "import pyvista as pv\n",
    "import math\n",
    "pi = math.pi"
   ]
  },
  {
   "attachments": {},
   "cell_type": "markdown",
   "id": "dcb0a743-4620-4877-a675-5feb38df457f",
   "metadata": {},
   "source": [
    "# GREAT Cell HM test 2: permeability change in fracture\n",
    "\n",
    "<img src=\"./Figures/ufz_HM2_model.png\" alt=\"HM test2\" width=\"400\" height=\"400\" />"
   ]
  },
  {
   "cell_type": "markdown",
   "id": "72b05e6d",
   "metadata": {},
   "source": [
    "### Set the loading conditions for BAGs (PEEs) and STRIP (DSSs)"
   ]
  },
  {
   "cell_type": "markdown",
   "id": "acfc069e",
   "metadata": {},
   "source": [
    "Assign loading Conditions for BAG segments and apply on STRIP segments loading average of surrounding BAG segments.\n",
    "<!-- ![Schematic view of Great Cell BC](./figures/greatcell_loading_schematic_xy.png#one-half \"Schematic view of Great Cell BC.\") -->\n",
    "\n",
    "<img src=\"../3D/figures/greatcell_loading_schematic_xy.png\" alt=\"Schematic view of Great Cell BC.\" style=\"width:400px;\">\n"
   ]
  },
  {
   "cell_type": "markdown",
   "id": "c0374a37",
   "metadata": {},
   "source": [
    "### Different loading conditions \n"
   ]
  },
  {
   "cell_type": "markdown",
   "id": "5b9ab48b",
   "metadata": {},
   "source": [
    " HM2 loading (Unit: MPa):\n",
    "   \n",
    "|Maker| Angle PEE 1 to $\\sigma_2$| **PEE 1**|**PEE 2**|**PEE 3**|**PEE 4**|**PEE 5**|**PEE 6**|**PEE 7**| **PEE 8**|\n",
    "|-------------------      |---|----------|---------|---------|---------|----------|----------|----------|----------|\n",
    "| B | 0 $^\\circ$ |3.0| 4.3| 5.6| 7.0| 7.0| 5.6| 4.3| 3.0|\n",
    "| C | 22.5 $^\\circ$|4.3| 5.6| 7.0| 7.0| 5.6| 4.3| 3.0| 3.0|\n",
    "| D | 45.0 $^\\circ$|5.6| 7.0| 7.0| 5.6| 4.3| 3.0| 3.0| 4.3|\n",
    "| E | 67.5 $^\\circ$|7.0| 7.0| 5.6| 4.3| 3.0| 3.0| 4.3| 5.6|\n",
    "| F | 90 $^\\circ$|7.0| 5.6| 4.3| 3.0| 3.0| 4.3| 5.6| 7.0|\n",
    "\n",
    "\n",
    "The top load is 12 MPa."
   ]
  },
  {
   "cell_type": "markdown",
   "id": "1ba1c0d4-9f6f-4ceb-8615-b26098ebd00f",
   "metadata": {},
   "source": [
    "### Fracture properties\n",
    "\n",
    "* initial apperture: $b_0 = 10^{-5}$ m.\n",
    "* frature stiffness: two value sets are considered as\n",
    "  1. high stiffness $k_{nn}=k_{tt}=100$ GPa/m,\n",
    "  2. low stiffnesss $k_{nn}$ = 10 GPa/m, $k_{tt}=4$ GPa/m"
   ]
  },
  {
   "cell_type": "markdown",
   "id": "2e6f23b7",
   "metadata": {},
   "source": [
    "### Results\n",
    "\n",
    "The fracture mesh is extracted from the bulk mesh. The permeability and normal stress of the fracture at the center of the fracture mesh are fetched from the result VTU files and are plotted as follows: "
   ]
  },
  {
   "cell_type": "code",
   "execution_count": 6,
   "id": "90c09016",
   "metadata": {},
   "outputs": [],
   "source": [
    "def get_fracture_k_and_s_at_the_center(root_directory):\n",
    "    # Define the directories\n",
    "    directories = [root_directory + 'B',\n",
    "                   root_directory + 'C',\n",
    "                   root_directory + 'D',\n",
    "                   root_directory + 'E',\n",
    "                   root_directory + 'F']\n",
    "\n",
    "    k_f_all = []\n",
    "    k_sn_all = []\n",
    "    \n",
    "    # Loop through the directories\n",
    "    for directory in directories:\n",
    "        # Find the pvd file\n",
    "        for file in os.listdir(directory):\n",
    "            if file.endswith('.pvd'):\n",
    "                pvd_file = os.path.join(directory, file)\n",
    "                break\n",
    "    \n",
    "        # Open the pvd file\n",
    "        tree = ET.parse(pvd_file)\n",
    "        root = tree.getroot()\n",
    "    \n",
    "        # Get the last DataSet tag\n",
    "        last_dataset = root.findall('.//DataSet')[-1]\n",
    "    \n",
    "        # Get the 'file' attribute of the last DataSet tag\n",
    "        file_attribute = last_dataset.attrib['file']\n",
    "    \n",
    "        #print(f\"The 'file' attribute of the last DataSet tag in {pvd_file} is {file_attribute}.\")\n",
    "    \n",
    "        file_name = os.path.join(directory, file_attribute)\n",
    "        mesh = pv.read(file_name)\n",
    "        target_mat_id = 0\n",
    "        matIDs = mesh.cell_data[\"MaterialIDs\"]\n",
    "        submesh = mesh.extract_cells(np.where(matIDs == target_mat_id)[0])\n",
    "        center_p_id = submesh.find_closest_point((0.02, 0.0, 0.11))\n",
    "        k_f = submesh.point_data[\"fracture_permeability\"][center_p_id]\n",
    "        k_f_all.append(k_f)\n",
    "        #print(f'The fracture permeability in the center is {k_f}')\n",
    "        s_f = submesh.point_data[\"fracture_stress\"][center_p_id]\n",
    "        #print(f'The normal stress on the fracture is {s_f[2]}')\n",
    "        k_sn_all.append(s_f[2])\n",
    "\n",
    "    return np.array(k_f_all) * 1.e+11, -np.array(k_sn_all) * 1.e-6\n"
   ]
  },
  {
   "cell_type": "code",
   "execution_count": 7,
   "id": "ba182fee",
   "metadata": {},
   "outputs": [],
   "source": [
    "angle = np.array([0, 22.5, 45, 67.5, 90]) * pi/180\n",
    "mock_sn = 7 * (np.cos(angle)**2) + 3 * (np.sin(angle)**2)"
   ]
  },
  {
   "cell_type": "code",
   "execution_count": 9,
   "id": "9b46973f",
   "metadata": {},
   "outputs": [
    {
     "data": {
      "image/png": "[encoded data removed]",
      "text/plain": [
       "<Figure size 500x500 with 1 Axes>"
      ]
     },
     "metadata": {},
     "output_type": "display_data"
    }
   ],
   "source": [
    "root_output_directory = 'output_new_load/high_kn/'\n",
    "k, sn = get_fracture_k_and_s_at_the_center(root_output_directory)\n",
    "   \n",
    "root_output_directory = 'output_new_load/low_kn/'\n",
    "k_l, sn_l = get_fracture_k_and_s_at_the_center(root_output_directory)\n",
    "\n",
    "labels = ['B', 'C', 'D', 'E', 'F']\n",
    "\n",
    "# Plotting\n",
    "plt.rcParams['figure.figsize'] = [5, 5]\n",
    "plt.plot(mock_sn, k, marker='o', linestyle = 'dashed', label=r'$k_{nn}=k_{tt}=100$ GPa/m')\n",
    "plt.plot(mock_sn, k_l, marker='*', linestyle = 'dashed', label=r'$k_{nn}$=10 GPa/m, $k_{tt}=4$ GPa/m')\n",
    "for label, x, y in zip(labels, mock_sn, k):\n",
    "    plt.annotate(label, (x, y), textcoords=\"offset points\", xytext=(10,-20), ha='center')\n",
    "\n",
    "#plt.title('Your Data Plot')\n",
    "plt.xlabel('Normal fracture stress from the far stress state [MPa]')\n",
    "plt.ylabel(r'Fracture permeabilty [$10^{-11}$ m$^2$]')\n",
    "plt.legend()\n",
    "\n",
    "plt.show()\n"
   ]
  },
  {
   "cell_type": "code",
   "execution_count": null,
   "id": "37a2ce8a-246f-42b1-a1d1-98a721a2bb28",
   "metadata": {},
   "outputs": [],
   "source": [
    "plt.plot(mock_sn, sn, marker='o', linestyle = 'dashed', label=r'$k_{nn}=k_{tt}=100$ GPa/m')\n",
    "plt.plot(mock_sn, sn_l, marker='*', linestyle = 'dashed', label=r'$k_{nn}$=10 GPa/m, $k_{tt}=4$ GPa/m')\n",
    "for label, x, y in zip(labels, mock_sn, sn):\n",
    "    plt.annotate(label, (x, y), textcoords=\"offset points\", xytext=(0,10), ha='center')\n",
    "\n",
    "plt.xlabel('Normal fracture stress from the far stress state [MPa]')\n",
    "plt.ylabel(r'Calculated normal fracture stress [MPa]')\n",
    "plt.legend()\n",
    "\n",
    "#plt.savefig(\"ufz_HM2_fracture_stress_sn_mock.png\")\n",
    "\n",
    "plt.show()\n"
   ]
  },
  {
   "cell_type": "code",
   "execution_count": null,
   "id": "52d5e618-8f33-4e3d-abd9-4cf4b049c4c5",
   "metadata": {},
   "outputs": [],
   "source": []
  }
 ],
 "metadata": {
  "kernelspec": {
   "display_name": "Python 3 (ipykernel)",
   "language": "python",
   "name": "python3"
  },
  "language_info": {
   "codemirror_mode": {
    "name": "ipython",
    "version": 3
   },
   "file_extension": ".py",
   "mimetype": "text/x-python",
   "name": "python",
   "nbconvert_exporter": "python",
   "pygments_lexer": "ipython3",
   "version": "3.11.7"
  }
 },
 "nbformat": 4,
 "nbformat_minor": 5
}
